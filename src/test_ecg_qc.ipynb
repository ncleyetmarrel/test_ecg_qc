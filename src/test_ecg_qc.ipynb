{
 "cells": [
  {
   "cell_type": "code",
   "execution_count": 3,
   "metadata": {},
   "outputs": [],
   "source": [
    "import wfdb\n",
    "import pandas as pd\n",
    "import numpy\n",
    "from typing import Generator, Dict, Tuple"
   ]
  },
  {
   "cell_type": "code",
   "execution_count": 12,
   "metadata": {},
   "outputs": [],
   "source": [
    "data_path = './../data'\n",
    "dataset = 'mit-bih-arrhythmia-database'\n",
    "\n",
    "# MIT-BIH Arrhythmia Database\n",
    "# records and their channels\n",
    "# s/o to Marie !!!\n",
    "\n",
    "mit_bih_arrhythmia = {\n",
    "    '100': ['MLII', 'V5'],\n",
    "    '101': ['MLII', 'V1'],\n",
    "    '102': ['V5', 'V2'],\n",
    "    '103': ['MLII', 'V2'],\n",
    "    '104': ['V5', 'V2'],\n",
    "    '105': ['MLII', 'V1'],\n",
    "    '106': ['MLII', 'V1'],\n",
    "    '107': ['MLII', 'V1'],\n",
    "    '108': ['MLII', 'V1'],\n",
    "    '109': ['MLII', 'V1'],\n",
    "    '111': ['MLII', 'V1'],\n",
    "    '112': ['MLII', 'V1'],\n",
    "    '113': ['MLII', 'V1'],\n",
    "    '114': ['MLII', 'V5'],\n",
    "    '115': ['MLII', 'V1'],\n",
    "    '116': ['MLII', 'V1'],\n",
    "    '117': ['MLII', 'V2'],\n",
    "    '118': ['MLII', 'V1'],\n",
    "    '119': ['MLII', 'V1'],\n",
    "    '121': ['MLII', 'V1'],\n",
    "    '122': ['MLII', 'V1'],\n",
    "    '123': ['MLII', 'V5'],\n",
    "    '124': ['MLII', 'V4'],\n",
    "    '200': ['MLII', 'V1'],\n",
    "    '201': ['MLII', 'V1'],\n",
    "    '202': ['MLII', 'V1'],\n",
    "    '203': ['MLII', 'V1'],\n",
    "    '205': ['MLII', 'V1'],\n",
    "    '207': ['MLII', 'V1'],\n",
    "    '208': ['MLII', 'V1'],\n",
    "    '209': ['MLII', 'V1'],\n",
    "    '210': ['MLII', 'V1'],\n",
    "    '212': ['MLII', 'V1'],\n",
    "    '213': ['MLII', 'V1'],\n",
    "    '214': ['MLII', 'V1'],\n",
    "    '215': ['MLII', 'V1'],\n",
    "    '217': ['MLII', 'V1'],\n",
    "    '219': ['MLII', 'V1'],\n",
    "    '220': ['MLII', 'V1'],\n",
    "    '221': ['MLII', 'V1'],\n",
    "    '222': ['MLII', 'V1'],\n",
    "    '223': ['MLII', 'V1'],\n",
    "    '228': ['MLII', 'V1'],\n",
    "    '230': ['MLII', 'V1'],\n",
    "    '231': ['MLII', 'V1'],\n",
    "    '232': ['MLII', 'V1'],\n",
    "    '233': ['MLII', 'V1'],\n",
    "    '234': ['MLII', 'V1']\n",
    "}"
   ]
  },
  {
   "cell_type": "code",
   "execution_count": 13,
   "metadata": {},
   "outputs": [],
   "source": [
    "def read_mit_bih_arrhythmia() -> Generator[Tuple[str, Dict[str, numpy.ndarray]], None, None]:\n",
    "    \"\"\"\n",
    "    read records from MIT BIH Arrhythmia Database.\n",
    "    :return: ID and values of sampled signals for each record\n",
    "    :rtype: tuple(str, dict(str, ndarray))\n",
    "    \"\"\"\n",
    "    records_list = pd.read_csv(f'{data_path}/mit-bih-arrhythmia-database/RECORDS', names=['id'])\n",
    "    for record_id in records_list['id']:\n",
    "        record = wfdb.rdrecord(f'{data_path}/mit-bih-arrhythmia-database/{record_id}')\n",
    "        yield record_id, {\n",
    "            record.sig_name[0]: record.p_signal[:, 0],\n",
    "            record.sig_name[1]: record.p_signal[:, 1]\n",
    "        }\n"
   ]
  },
  {
   "cell_type": "code",
   "execution_count": 16,
   "metadata": {},
   "outputs": [],
   "source": [
    "gene = read_mit_bih_arrhythmia()"
   ]
  },
  {
   "cell_type": "code",
   "execution_count": 49,
   "metadata": {},
   "outputs": [
    {
     "data": {
      "text/plain": [
       "(212,\n",
       " {'MLII': array([-0.5 , -0.5 , -0.5 , ..., -0.34, -0.33,  0.  ]),\n",
       "  'V1': array([0.05 , 0.05 , 0.05 , ..., 0.235, 0.22 , 0.   ])})"
      ]
     },
     "execution_count": 49,
     "metadata": {},
     "output_type": "execute_result"
    }
   ],
   "source": [
    "next(gene)"
   ]
  },
  {
   "cell_type": "code",
   "execution_count": null,
   "metadata": {},
   "outputs": [],
   "source": []
  }
 ],
 "metadata": {
  "kernelspec": {
   "display_name": "Python 3",
   "language": "python",
   "name": "python3"
  },
  "language_info": {
   "codemirror_mode": {
    "name": "ipython",
    "version": 3
   },
   "file_extension": ".py",
   "mimetype": "text/x-python",
   "name": "python",
   "nbconvert_exporter": "python",
   "pygments_lexer": "ipython3",
   "version": "3.8.5"
  }
 },
 "nbformat": 4,
 "nbformat_minor": 4
}
