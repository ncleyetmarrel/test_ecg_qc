{
 "cells": [
  {
   "cell_type": "code",
   "execution_count": 1,
   "metadata": {},
   "outputs": [],
   "source": [
    "from ecg_qc import ecg_qc, sqi_computing\n",
    "import os, sys\n",
    "sys.path.append('../')\n",
    "from dags.tasks.detect_qrs import read_mit_bih_noise, sampling_frequency\n",
    "import plotly.express as px\n",
    "import pandas as pd\n"
   ]
  },
  {
   "cell_type": "code",
   "execution_count": 2,
   "metadata": {},
   "outputs": [],
   "source": [
    "def apply_algo(algo, signal, length_chunk, sampling_frequency):\n",
    "\n",
    "    # Preprocess signal : chunks of length_chunk seconds\n",
    "    n = length_chunk * sampling_frequency\n",
    "    signal_subdiv = [signal[i * n:(i + 1) * n]\n",
    "                        for i in range((len(signal) + n - 1) // n)]\n",
    "    # Padding on last chunk if necessary\n",
    "    m = len(signal_subdiv[-1])\n",
    "    if m < n:\n",
    "        signal_subdiv[-1] += [0 for j in range(n - m)]\n",
    "    # Apply ecg_qc on each chunk\n",
    "    signal_sqis = [algo.compute_sqi_scores(x) for x in signal_subdiv]\n",
    "    signal_quality = [algo.get_signal_quality(x) for x in signal_subdiv]\n",
    "\n",
    "    return signal_sqis, signal_quality"
   ]
  },
  {
   "cell_type": "code",
   "execution_count": 3,
   "metadata": {},
   "outputs": [],
   "source": [
    "rfc = '../models/rfc.joblib'\n",
    "model = '../models/model.pkl'\n",
    "model_mieux = '../models/model_mieux.pkl'\n",
    "models = [rfc, model, model_mieux]\n",
    "\n",
    "data_path = '../data'\n",
    "SNR = 'e00'\n",
    "\n",
    "data_generator = read_mit_bih_noise(SNR, data_path)\n",
    "pat118 = next(data_generator)\n",
    "pat119 = next(data_generator)\n",
    "signal_118_MLII = list(pat118[1]['MLII'])\n",
    "signal_118_V1 = list(pat118[1]['V1'])\n",
    "signal_119_MLII = list(pat119[1]['MLII'])\n",
    "signal_119_V1 = list(pat119[1]['V1'])"
   ]
  },
  {
   "cell_type": "code",
   "execution_count": 4,
   "metadata": {},
   "outputs": [],
   "source": [
    "portion_118_MLII = signal_118_MLII[:21601] # 1 min = 21600 pts \n",
    "portion_118_V1 = signal_118_V1[:21601]\n",
    "portion_119_MLII = signal_119_MLII[:21601]\n",
    "portion_119_V1 = signal_119_V1[:21601]\n",
    "\n",
    "# fig = px.line(y=portion_118_MLII, title='118 MLII') \n",
    "# fig.show()\n",
    "# fig2 = px.line(y=portion_118_V1, title='118 V1') \n",
    "# fig2.show()\n",
    "# fig3 = px.line(y=portion_119_MLII, title='119 MLII') \n",
    "# fig3.show()\n",
    "# fig4 = px.line(y=portion_119_V1, title='119 V1')\n",
    "# fig4.show()"
   ]
  },
  {
   "cell_type": "code",
   "execution_count": 5,
   "metadata": {},
   "outputs": [
    {
     "name": "stderr",
     "output_type": "stream",
     "text": [
      "/home/nacm/github/test_ecg_qc/venv/lib/python3.8/site-packages/sklearn/base.py:329: UserWarning: Trying to unpickle estimator DecisionTreeClassifier from version 0.24.2 when using version 0.23.2. This might lead to breaking code or invalid results. Use at your own risk.\n",
      "  warnings.warn(\n",
      "/home/nacm/github/test_ecg_qc/venv/lib/python3.8/site-packages/sklearn/base.py:329: UserWarning: Trying to unpickle estimator RandomForestClassifier from version 0.24.2 when using version 0.23.2. This might lead to breaking code or invalid results. Use at your own risk.\n",
      "  warnings.warn(\n",
      "/home/nacm/github/test_ecg_qc/venv/lib/python3.8/site-packages/sklearn/base.py:329: UserWarning: Trying to unpickle estimator GridSearchCV from version 0.24.2 when using version 0.23.2. This might lead to breaking code or invalid results. Use at your own risk.\n",
      "  warnings.warn(\n",
      "/home/nacm/github/test_ecg_qc/venv/lib/python3.8/site-packages/sklearn/base.py:329: UserWarning: Trying to unpickle estimator DecisionTreeClassifier from version 0.24.2 when using version 0.23.2. This might lead to breaking code or invalid results. Use at your own risk.\n",
      "  warnings.warn(\n",
      "/home/nacm/github/test_ecg_qc/venv/lib/python3.8/site-packages/sklearn/base.py:329: UserWarning: Trying to unpickle estimator RandomForestClassifier from version 0.24.2 when using version 0.23.2. This might lead to breaking code or invalid results. Use at your own risk.\n",
      "  warnings.warn(\n",
      "/home/nacm/github/test_ecg_qc/venv/lib/python3.8/site-packages/sklearn/base.py:329: UserWarning: Trying to unpickle estimator GridSearchCV from version 0.24.2 when using version 0.23.2. This might lead to breaking code or invalid results. Use at your own risk.\n",
      "  warnings.warn(\n"
     ]
    },
    {
     "name": "stdout",
     "output_type": "stream",
     "text": [
      "          model    signal segment  qsqi  csqi  ssqi   ksqi  psqi  bassqi  \\\n",
      "0           rfc  118 MLII       0  0.95  0.63 -0.28   4.05  0.64    0.31   \n",
      "1           rfc  118 MLII       1  1.00  0.61 -0.25   2.58  0.63    0.30   \n",
      "2           rfc  118 MLII       2  0.91  0.60 -0.03   3.51  0.66    0.31   \n",
      "3           rfc  118 MLII       3  0.91  0.60 -0.12   4.20  0.63    0.35   \n",
      "4           rfc  118 MLII       4  0.87  0.57 -0.21   2.63  0.65    0.34   \n",
      "..          ...       ...     ...   ...   ...   ...    ...   ...     ...   \n",
      "79  model_mieux    119 V1       2  0.95  0.66 -2.09  11.47  0.67    0.28   \n",
      "80  model_mieux    119 V1       3  0.84  0.64 -2.01  11.41  0.68    0.29   \n",
      "81  model_mieux    119 V1       4  0.84  0.64 -1.86   9.19  0.68    0.28   \n",
      "82  model_mieux    119 V1       5  0.90  0.61 -2.08  11.74  0.68    0.27   \n",
      "83  model_mieux    119 V1       6  0.92  0.57  0.66  -1.48  0.56    0.40   \n",
      "\n",
      "   quality  \n",
      "0        1  \n",
      "1        1  \n",
      "2        0  \n",
      "3        0  \n",
      "4        0  \n",
      "..     ...  \n",
      "79       0  \n",
      "80       0  \n",
      "81       0  \n",
      "82       0  \n",
      "83       0  \n",
      "\n",
      "[84 rows x 10 columns]\n"
     ]
    }
   ],
   "source": [
    "length_chunk = 9 # seconds\n",
    "signals = [portion_118_MLII, portion_118_V1, portion_119_MLII, portion_119_V1]\n",
    "sig_names = ['118 MLII', '118 V1', '119 MLII', '119 V1']\n",
    "df = pd.DataFrame(columns=['model', 'signal', 'segment', 'qsqi', 'csqi', 'ssqi', 'ksqi', 'psqi', 'bassqi', 'quality'])\n",
    "for model in models :\n",
    "    algo = ecg_qc(model=model, sampling_frequency=sampling_frequency)\n",
    "    model_name = model.split('/')[-1].split('.')[0]\n",
    "    for i in range(len(signals)):\n",
    "        sig_name = sig_names[i]\n",
    "        sig = signals[i]\n",
    "        sqis, qual = apply_algo(algo, sig, length_chunk, sampling_frequency)\n",
    "        for j in range(len(qual)):\n",
    "            data = [model_name, sig_name, j] + sqis[j][0] + [qual[j]]\n",
    "            df = df.append(\n",
    "                pd.DataFrame(\n",
    "                    [data], columns=['model', 'signal', 'segment', 'qsqi', 'csqi', 'ssqi', 'ksqi', 'psqi', 'bassqi', 'quality']\n",
    "                ), \n",
    "                ignore_index=True)\n",
    "\n",
    "print(df)\n"
   ]
  }
 ],
 "metadata": {
  "language_info": {
   "name": "python",
   "nbconvert_exporter": "python"
  },
  "orig_nbformat": 4
 },
 "nbformat": 4,
 "nbformat_minor": 2
}