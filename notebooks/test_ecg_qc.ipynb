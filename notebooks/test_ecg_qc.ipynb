{
 "cells": [
  {
   "cell_type": "code",
   "execution_count": 13,
   "metadata": {},
   "outputs": [],
   "source": [
    "import os\n",
    "import json\n",
    "import wfdb\n",
    "import pandas as pd\n",
    "import numpy\n",
    "from typing import Generator, Dict, Tuple, List\n",
    "from biosppy.signals.ecg import ecg"
   ]
  },
  {
   "cell_type": "code",
   "execution_count": 14,
   "metadata": {},
   "outputs": [],
   "source": [
    "data_path = './../data/'\n",
    "dataset = 'mit-bih-noise-stress-test-database'\n",
    "\n",
    "# MIT-BIH Noise Stress Database\n",
    "# records and their channels\n",
    "# s/o to Marie !!!\n",
    "\n",
    "mit_bih_noise_stress_test_e24 = {\n",
    "    '118e24': ['MLII', 'V1'],\n",
    "    '119e24': ['MLII', 'V1']\n",
    "}\n",
    "\n",
    "mit_bih_noise_stress_test_e18 = {\n",
    "    '118e18': ['MLII', 'V1'],\n",
    "    '119e18': ['MLII', 'V1']\n",
    "}\n",
    "\n",
    "mit_bih_noise_stress_test_e12 = {\n",
    "    '118e12': ['MLII', 'V1'],\n",
    "    '119e12': ['MLII', 'V1']\n",
    "}\n",
    "\n",
    "mit_bih_noise_stress_test_e06 = {\n",
    "    '118e06': ['MLII', 'V1'],\n",
    "    '119e06': ['MLII', 'V1']\n",
    "}\n",
    "\n",
    "mit_bih_noise_stress_test_e00 = {\n",
    "    '118e00': ['MLII', 'V1'],\n",
    "    '119e00': ['MLII', 'V1']\n",
    "}\n",
    "\n",
    "mit_bih_noise_stress_test_e_6 = {\n",
    "    '118e_6': ['MLII', 'V1'],\n",
    "    '119e_6': ['MLII', 'V1']\n",
    "}\n",
    "\n"
   ]
  },
  {
   "cell_type": "code",
   "execution_count": 15,
   "metadata": {},
   "outputs": [],
   "source": [
    "def read_mit_bih_noise(snr:str) -> Generator[Tuple[str, Dict[str, numpy.ndarray]], None, None]:\n",
    "    \"\"\"\n",
    "    read records with SNR 24dB from MIT BIH Noise Stress Test Database.\n",
    "    :return: ID and values of sampled signals for each record\n",
    "    :rtype: tuple(str, dict(str, ndarray))\n",
    "    \"\"\"\n",
    "    assert snr in ['e24', 'e18', 'e12', 'e06', 'e00', 'e_6']\n",
    "    rec_list = pd.read_csv(f'{data_path}/mit-bih-noise-stress-test-database/RECORDS', names=['id'])\n",
    "    records_list = [record_id for record_id in rec_list['id'] if record_id.find(snr) != -1]\n",
    "    for record_id in records_list:\n",
    "        record = wfdb.rdrecord(f'{data_path}/mit-bih-noise-stress-test-database/{record_id}')\n",
    "        yield record_id, {\n",
    "            record.sig_name[0]: record.p_signal[:, 0],\n",
    "            record.sig_name[1]: record.p_signal[:, 1]\n",
    "        }\n"
   ]
  },
  {
   "cell_type": "code",
   "execution_count": 23,
   "metadata": {},
   "outputs": [],
   "source": [
    "def run_hamilton_qrs_detector(sig: numpy.ndarray, freq_sampling: int) -> List[int]:\n",
    "    qrs_detections = ecg(signal=sig, sampling_rate=freq_sampling, show=False)[2]\n",
    "    return [int(element) for element in qrs_detections]"
   ]
  },
  {
   "cell_type": "code",
   "execution_count": 24,
   "metadata": {},
   "outputs": [],
   "source": [
    "# generator for records' readers\n",
    "dataset_generators = {\n",
    "    'mit-bih-noise-stress-test-e24': read_mit_bih_noise('e24'),\n",
    "    'mit-bih-noise-stress-test-e18': read_mit_bih_noise('e18'),\n",
    "    'mit-bih-noise-stress-test-e12': read_mit_bih_noise('e12'),\n",
    "    'mit-bih-noise-stress-test-e06': read_mit_bih_noise('e06'),\n",
    "    'mit-bih-noise-stress-test-e00': read_mit_bih_noise('e00'),\n",
    "    'mit-bih-noise-stress-test-e_6': read_mit_bih_noise('e_6'),\n",
    "\n",
    "}\n",
    "\n",
    "\n",
    "# generator to get names of records and their channels\n",
    "records = {\n",
    "    'mit-bih-noise-stress-test-e24': mit_bih_noise_stress_test_e24,\n",
    "    'mit-bih-noise-stress-test-e18': mit_bih_noise_stress_test_e18,\n",
    "    'mit-bih-noise-stress-test-e12': mit_bih_noise_stress_test_e12,\n",
    "    'mit-bih-noise-stress-test-e06': mit_bih_noise_stress_test_e06,\n",
    "    'mit-bih-noise-stress-test-e00': mit_bih_noise_stress_test_e00,\n",
    "    'mit-bih-noise-stress-test-e_6': mit_bih_noise_stress_test_e_6,\n",
    "}\n",
    "\n",
    "# signals' sampling frequency\n",
    "sampling_frequency = 360"
   ]
  },
  {
   "cell_type": "code",
   "execution_count": 25,
   "metadata": {},
   "outputs": [],
   "source": [
    "def write_detections_json(snr: str, dict_detections: Dict[str, Dict[str, List[int]]]) -> None:\n",
    "    \"\"\"\n",
    "    write results of QRS detection from a dictionary in a json file.\n",
    "    :param dataset: name of the studied dataset\n",
    "    :type dataset: str\n",
    "    :param algorithm: name of the used method for QRS detection\n",
    "    :type algorithm: str\n",
    "    :param dict_detections: results of QRS detections (localisations) for each record and each channel\n",
    "    :type dict_detections: dict(str, dict(str, list(int)))\n",
    "    \"\"\"\n",
    "    os.makedirs(f'output/frames', exist_ok=True)\n",
    "    with open(f'output/frames/hamilton_mit_bih_noise_stress_{snr}.json', 'w') as outfile:\n",
    "        json.dump(dict_detections, outfile)\n",
    "\n",
    "\n",
    "def main(snr: str) -> None:\n",
    "    assert snr in ['e24', 'e18', 'e12', 'e06', 'e00', 'e_6']\n",
    "    dataset = 'mit-bih-noise-stress-test-' + snr\n",
    "    data_generator = dataset_generators[dataset]\n",
    "    records_dict = records[dataset]\n",
    "\n",
    "    detections_dict = {}\n",
    "    counter = 0\n",
    "    print(f'Detection with Hamilton on dataset {dataset} is running....')\n",
    "    while True:\n",
    "        try:\n",
    "            record_id, record_sigs = next(data_generator)\n",
    "            sig_names = records_dict[str(record_id)]\n",
    "            detections_rec_dict = {}\n",
    "            for id_sig in range(len(sig_names)):\n",
    "                qrs_frames = run_hamilton_qrs_detector(record_sigs[sig_names[id_sig]], sampling_frequency)\n",
    "                detections_rec_dict[sig_names[id_sig]] = qrs_frames\n",
    "            detections_dict[record_id] = detections_rec_dict\n",
    "            counter += 1\n",
    "            print(f'{counter}/{len(records_dict.keys())}')\n",
    "        except StopIteration:\n",
    "            write_detections_json(snr, detections_dict)\n",
    "            print(f'Detection with Hamilton on dataset {dataset} was successful....')\n",
    "            break"
   ]
  },
  {
   "cell_type": "code",
   "execution_count": 26,
   "metadata": {},
   "outputs": [
    {
     "output_type": "stream",
     "name": "stdout",
     "text": [
      "Detection with Hamilton on dataset mit-bih-noise-stress-test-e00 is running....\n",
      "1/2\n",
      "2/2\n",
      "Detection with Hamilton on dataset mit-bih-noise-stress-test-e00 was successful....\n"
     ]
    }
   ],
   "source": [
    "main('e00')"
   ]
  },
  {
   "cell_type": "code",
   "execution_count": null,
   "metadata": {},
   "outputs": [],
   "source": []
  }
 ],
 "metadata": {
  "kernelspec": {
   "name": "python385jvsc74a57bd03babfcfe81192bf87f3466d6724306dbf67a75dcd83295672d81b27d32087148",
   "display_name": "Python 3.8.5 64-bit ('venv')"
  },
  "language_info": {
   "codemirror_mode": {
    "name": "ipython",
    "version": 3
   },
   "file_extension": ".py",
   "mimetype": "text/x-python",
   "name": "python",
   "nbconvert_exporter": "python",
   "pygments_lexer": "ipython3",
   "version": "3.8.5"
  },
  "metadata": {
   "interpreter": {
    "hash": "3babfcfe81192bf87f3466d6724306dbf67a75dcd83295672d81b27d32087148"
   }
  }
 },
 "nbformat": 4,
 "nbformat_minor": 4
}